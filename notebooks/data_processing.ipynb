{
 "cells": [
  {
   "cell_type": "markdown",
   "metadata": {},
   "source": [
    "# Data Processing\n",
    "This notebook contains the code to merge the wikepedia and and population data. The output of this notebook is the\"wp_countries-no_match.txt\" file and the \"wp_politicians_by_country.csv\" file located in the \"data_clean\" folder."
   ]
  },
  {
   "cell_type": "markdown",
   "metadata": {},
   "source": [
    "## Importing Libraries"
   ]
  },
  {
   "cell_type": "code",
   "execution_count": 2,
   "metadata": {},
   "outputs": [],
   "source": [
    "import json\n",
    "import pandas as pd"
   ]
  },
  {
   "cell_type": "markdown",
   "metadata": {},
   "source": [
    "## Loading the Data"
   ]
  },
  {
   "cell_type": "code",
   "execution_count": 66,
   "metadata": {},
   "outputs": [],
   "source": [
    "# Loading in the wikepedia data, and csvs with politician names, countries, and popultations\n",
    "with open('../data_intermediate/scores_dict.json', 'r') as file:\n",
    "    scores_dict = json.load(file)\n",
    "\n",
    "pol_country = pd.read_csv(\"../data_raw/politicians_by_country_AUG.2024.csv\").drop_duplicates()\n",
    "pop_country = pd.read_csv(\"../data_raw/population_by_country_AUG.2024.csv\").drop_duplicates()\n",
    "\n",
    "# Converting the JSON into an easier to use dataframe\n",
    "scores_df = pd.DataFrame.from_dict(scores_dict, orient = 'index')"
   ]
  },
  {
   "cell_type": "markdown",
   "metadata": {},
   "source": [
    "# Tracking Missing Matches and Merging the Datasets\n",
    "Here, we see that most of the missing matches seem legit, except for \"Korea, South\" and \"South Korea\", which we therefore adjust to match prior to merging.\n"
   ]
  },
  {
   "cell_type": "code",
   "execution_count": 72,
   "metadata": {},
   "outputs": [
    {
     "name": "stdout",
     "output_type": "stream",
     "text": [
      "['Guinea-Bissau', 'Korean']\n",
      "['Georgia', 'Martinique', 'Liechtenstein', 'Kiribati', 'Guam', 'Denmark', 'Canada', 'French Guiana', 'Curacao', 'Western Sahara', 'New Caledonia', 'Australia', 'Nauru', 'Netherlands', 'Dominica', 'Puerto Rico', 'New Zealand', 'Fiji', 'Jamaica', 'Romania', 'San Marino', 'Palau', 'Andorra', 'Ireland', 'Korea (North)', 'French Polynesia', 'China (Hong Kong SAR)', 'Suriname', 'Iceland', 'United Kingdom', 'Mayotte', 'GuineaBissau', 'Brunei', 'China (Macao SAR)', 'Sao Tome and Principe', 'Guadeloupe', 'Philippines', 'Reunion', 'Mexico', 'eSwatini', 'Mauritius', 'United States']\n"
     ]
    }
   ],
   "source": [
    "# Track and store the missing country matches as a .txt\n",
    "\n",
    "#Extract unique country names from both datasources\n",
    "wikepedia_countries_list = set(list(pol_country['country']))\n",
    "pop_countries_list = set(list(pop_country['Geography']))\n",
    "\n",
    "missing_countries_wiki = list(set(wikepedia_countries_list) - set(pop_countries_list))\n",
    "print(missing_countries_wiki)\n",
    "missing_countries_pop = [country for country in (set(pop_countries_list) - set(wikepedia_countries_list)) if not country.isupper()]\n",
    "print(missing_countries_pop)\n",
    "\n",
    "# Changing the South Korea key in the pol_country df\n",
    "pol_country.loc[pol_country['country'] == 'Korea, South', 'country'] = \"Korea (South)\"\n",
    "\n",
    "#Combine the lists\n",
    "missing_match_countries = missing_countries_wiki + missing_countries_pop\n",
    "\n",
    "#Write the output to a .txt file\n",
    "with open('../data_clean/wp_countries-no_match.txt', 'w') as file:\n",
    "          for country in missing_match_countries:\n",
    "            file.write(f\"{country}\\n\")"
   ]
  },
  {
   "cell_type": "code",
   "execution_count": 73,
   "metadata": {},
   "outputs": [
    {
     "name": "stdout",
     "output_type": "stream",
     "text": [
      "7148\n"
     ]
    }
   ],
   "source": [
    "# Merging the scores data with the politician country\n",
    "merged_df = scores_df.merge(pol_country, left_index = True, right_on = 'name', how='left')\n",
    "\n",
    "#Assign a region to each country\n",
    "def label_region(pop_country):\n",
    "    #Extract names\n",
    "    geography_list = pop_country['Geography']\n",
    "    current_region = None\n",
    "\n",
    "    #Loop through names, assign last region\n",
    "    for i, name in enumerate(geography_list):\n",
    "        if name.isupper():\n",
    "            current_region = name\n",
    "        pop_country.loc[i, 'Region'] = current_region\n",
    "\n",
    "    return pop_country\n",
    "\n",
    "region_pop_country = label_region(pop_country)\n",
    "\n",
    "#Merging the merged data with country region\n",
    "full_merged_df = merged_df.merge(region_pop_country, left_on = 'country', right_on = 'Geography', how='inner')"
   ]
  },
  {
   "cell_type": "markdown",
   "metadata": {},
   "source": [
    "## Processing the Merged Dataset\n",
    "Upon this analysis, I noticed there were a number of politicians listed multiple times under different countries (40 to be exact). In this case, I have chosen to keep the politician associated with the country that has a larger population. Additionally, we also want to perform post-processing on the dataframe to clean up column names."
   ]
  },
  {
   "cell_type": "code",
   "execution_count": 86,
   "metadata": {},
   "outputs": [
    {
     "name": "stdout",
     "output_type": "stream",
     "text": [
      "         rev_id quality_score                                               name                                                url  country Geography  Population           Region\n",
      "151  1248230838          Stub                                        Visar Ymeri          https://en.wikipedia.org/wiki/Visar_Ymeri  Albania   Albania         2.7  SOUTHERN EUROPE\n",
      "155  1248230838          Stub                                        Visar Ymeri          https://en.wikipedia.org/wiki/Visar_Ymeri   Kosovo    Kosovo         1.7  SOUTHERN EUROPE\n",
      "166  1250190967             B                                    Oliver Ivanović      https://en.wikipedia.org/wiki/Oliver_Ivanović   Kosovo    Kosovo         1.7  SOUTHERN EUROPE\n",
      "174  1250189215             C                                        Goran Rakić          https://en.wikipedia.org/wiki/Goran_Rakić   Kosovo    Kosovo         1.7  SOUTHERN EUROPE\n",
      "419  1249557425             C                                      Hrant Maloyan        https://en.wikipedia.org/wiki/Hrant_Maloyan  Armenia   Armenia         3.0     WESTERN ASIA\n",
      "443  1249557425             C                                      Hrant Maloyan        https://en.wikipedia.org/wiki/Hrant_Maloyan    Syria     Syria        23.2     WESTERN ASIA\n",
      "487  1214682376         Start  Count Václav Antonín Chotek of Chotkov and Vojnín  https://en.wikipedia.org/wiki/Count_Václav_Ant...  Austria   Austria         9.2   WESTERN EUROPE\n",
      "500  1215043825          Stub                                    Eduard Hedvicek      https://en.wikipedia.org/wiki/Eduard_Hedvicek  Austria   Austria         9.2   WESTERN EUROPE\n",
      "547  1215186791             C             Leopold, Count von Thun und Hohenstein  https://en.wikipedia.org/wiki/Leopold,_Count_v...  Austria   Austria         9.2   WESTERN EUROPE\n",
      "554  1214682376         Start  Count Václav Antonín Chotek of Chotkov and Vojnín  https://en.wikipedia.org/wiki/Count_Václav_Ant...  Czechia   Czechia        10.9   EASTERN EUROPE \n",
      "\n",
      "Number of Duplicate Politicians: 40\n"
     ]
    }
   ],
   "source": [
    "# Display politicians with multiple country entries\n",
    "duplicate_politicians = full_merged_df[full_merged_df['name'].duplicated(keep=False)]\n",
    "\n",
    "# Visualize the first 10 duplicates\n",
    "pd.set_option('display.width', 1000)   \n",
    "print(duplicate_politicians.head(10), '\\n')\n",
    "\n",
    "#Count the total number of politicians with duplicate entries\n",
    "print(\"Number of Duplicate Politicians:\", len(set(list(duplicate_politicians['name']))))\n",
    "\n",
    "# Filter the full merged dataset to keep  only the entries corresponding the country with the largest population\n",
    "max_population_country_row = full_merged_df.groupby('name')['Population'].idxmax()\n",
    "full_merged_cleaned_df = full_merged_df.loc[max_population_country_row]\n",
    "\n",
    "\n",
    "#Reformatting the dataframe prior to saving (droppping / renaming columns)\n",
    "full_merged_cleaned_df = full_merged_cleaned_df.drop(columns=['url', 'Geography'])\n",
    "full_merged_cleaned_df.rename(columns={\"rev_id\": \"revision_id\", \n",
    "                                       \"Region\": \"region\", \n",
    "                                       \"name\":\"article_title\", \n",
    "                                       \"quality_score\":\"article_quality\", \n",
    "                                       \"Population\":\"population\"}, \n",
    "                                       inplace=True)\n",
    "\n",
    "full_merged_cleaned_df.to_csv('../data_clean/wp_politicians_by_country.csv')"
   ]
  }
 ],
 "metadata": {
  "kernelspec": {
   "display_name": "DATA557",
   "language": "python",
   "name": "python3"
  },
  "language_info": {
   "codemirror_mode": {
    "name": "ipython",
    "version": 3
   },
   "file_extension": ".py",
   "mimetype": "text/x-python",
   "name": "python",
   "nbconvert_exporter": "python",
   "pygments_lexer": "ipython3",
   "version": "3.10.13"
  }
 },
 "nbformat": 4,
 "nbformat_minor": 2
}

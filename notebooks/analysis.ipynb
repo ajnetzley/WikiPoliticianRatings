{
 "cells": [
  {
   "cell_type": "markdown",
   "metadata": {},
   "source": [
    "# Analysis\n",
    "This code contains all of the analysis for data processing and creating the 6 tables detailed below."
   ]
  },
  {
   "cell_type": "markdown",
   "metadata": {},
   "source": [
    "## Importing Libraries"
   ]
  },
  {
   "cell_type": "code",
   "execution_count": 5,
   "metadata": {},
   "outputs": [],
   "source": [
    "import pandas as pd\n",
    "import copy"
   ]
  },
  {
   "cell_type": "markdown",
   "metadata": {},
   "source": [
    "## Loading the data and preliminary cleaning\n",
    "\n",
    "Note, since the population is reported in millions to the first decimal, there are two countries (Monaco and Tuvalo) with corresponding wikepedia articles that have a listed population of 0 Million. Due to this lack of granularity in measurement, I have chose to fill in these populations as 50,000 (or 0.05 Million), which is the largest possible population that would not have rounded to 0.1 Million and therefore been reported. Therefore, all ratio measurement derived for these two countries are a minimum threshold (i.e. the true article_per_capita must be greater than or equal to the reported number)."
   ]
  },
  {
   "cell_type": "code",
   "execution_count": 42,
   "metadata": {},
   "outputs": [],
   "source": [
    "data = pd.read_csv(\"../data_clean/wp_politicians_by_country.csv\")\n",
    "\n",
    "#Start by replacing the countries with zero population, with 50K\n",
    "data.loc[data['population'] == 0, 'population'] = 0.05"
   ]
  },
  {
   "cell_type": "markdown",
   "metadata": {},
   "source": [
    "## Table 1: Top 10 countries by coverage\n",
    "The below code executes the analysis for identifying the top 10 contries with the highest total articles per capita. Note that Monaco is one of the countries where our articles per capita quantity is a lower threshold.\n",
    "\n"
   ]
  },
  {
   "cell_type": "code",
   "execution_count": 77,
   "metadata": {},
   "outputs": [
    {
     "name": "stdout",
     "output_type": "stream",
     "text": [
      "Top 10 countries by coverage\n",
      "\n",
      "                       Country  Articles per Capita (count/Million)\n",
      "           Antigua and Barbuda                               330.00\n",
      "                        Monaco                               200.00\n",
      "Federated States of Micronesia                               140.00\n",
      "              Marshall Islands                               130.00\n",
      "                         Tonga                               100.00\n",
      "                      Barbados                                83.33\n",
      "                    Seychelles                                60.00\n",
      "                    Montenegro                                56.67\n",
      "                      Maldives                                55.00\n",
      "                        Bhutan                                55.00\n"
     ]
    }
   ],
   "source": [
    "# Compute the articles per capita\n",
    "coverage_data = copy.deepcopy(data)\n",
    "coverage_data = coverage_data.groupby('country').agg( Count = ('population', 'count'), population = ('population', 'mean')).reset_index()\n",
    "coverage_data['articles_per_capita'] = coverage_data[\"Count\"] / coverage_data[\"population\"]\n",
    "\n",
    "# Rename the apc column to make it more readable\n",
    "coverage_data = coverage_data.rename(columns={'articles_per_capita': 'Articles per Capita (count/Million)', 'country': 'Country'})\n",
    "\n",
    "#Print the Top 10 to a Table\n",
    "print('Top 10 countries by coverage\\n')\n",
    "print(coverage_data.sort_values(by='Articles per Capita (count/Million)', ascending=False).head(10)[['Country', 'Articles per Capita (count/Million)']].round(2).to_string(index=False))"
   ]
  },
  {
   "cell_type": "markdown",
   "metadata": {},
   "source": [
    "## Table 2: Bottom 10 countries by coverage\n",
    "The below code executes the analysis for identifying the top 10 contries with the highest total articles per capita."
   ]
  },
  {
   "cell_type": "code",
   "execution_count": 76,
   "metadata": {},
   "outputs": [
    {
     "name": "stdout",
     "output_type": "stream",
     "text": [
      "Bottom 10 countries by coverage\n",
      "\n",
      "      Country  Articles per Capita (count/Million)\n",
      "        China                                 0.01\n",
      "        Ghana                                 0.09\n",
      "        India                                 0.11\n",
      " Saudi Arabia                                 0.14\n",
      "       Zambia                                 0.15\n",
      "       Norway                                 0.18\n",
      "       Israel                                 0.20\n",
      "        Egypt                                 0.30\n",
      "Cote d'Ivoire                                 0.32\n",
      "     Ethiopia                                 0.35\n"
     ]
    }
   ],
   "source": [
    "#Print the Bottom 10 to a Table\n",
    "print('Bottom 10 countries by coverage\\n')\n",
    "print(coverage_data.sort_values(by='Articles per Capita (count/Million)', ascending=True).head(10)[['Country', 'Articles per Capita (count/Million)']].round(2).to_string(index=False))"
   ]
  },
  {
   "cell_type": "markdown",
   "metadata": {},
   "source": [
    "## Table 3: Top 10 countries by high quality\n",
    "The below code executes the analysis for identifying the top 10 contries with the highest quality articles per capita.\n"
   ]
  },
  {
   "cell_type": "code",
   "execution_count": 75,
   "metadata": {},
   "outputs": [
    {
     "name": "stdout",
     "output_type": "stream",
     "text": [
      "Top 10 countries by coverage\n",
      "\n",
      "              Country  High Quality Articles per Capita (count/Million)\n",
      "           Montenegro                                              5.00\n",
      "           Luxembourg                                              2.86\n",
      "              Albania                                              2.59\n",
      "               Kosovo                                              2.35\n",
      "             Maldives                                              1.67\n",
      "              Croatia                                              1.32\n",
      "               Guyana                                              1.25\n",
      "Palestinian Territory                                              1.09\n",
      "            Lithuania                                              1.03\n",
      "             Slovenia                                              0.95\n"
     ]
    }
   ],
   "source": [
    "# Compute the articles per capita\n",
    "hq_coverage_data = copy.deepcopy(data)\n",
    "\n",
    "#Extract all the countries present\n",
    "all_countries = pd.DataFrame({'country':hq_coverage_data['country'].unique()})\n",
    "\n",
    "#Filter to only the high quality articles and compute aggregate scores\n",
    "hq_coverage_data = hq_coverage_data[hq_coverage_data[\"article_quality\"].isin(['FA', 'GA'])]\n",
    "hq_coverage_data = hq_coverage_data.groupby('country').agg( Count = ('population', 'count'), population = ('population', 'mean')).reset_index()\n",
    "hq_coverage_data['articles_per_capita'] = hq_coverage_data[\"Count\"] / hq_coverage_data[\"population\"]\n",
    "\n",
    "#Remerge with the set of all countries and fill in the aggregates with 0\n",
    "hq_coverage_data = pd.merge(all_countries, hq_coverage_data, on='country', how='left')\n",
    "hq_coverage_data.fillna(0, inplace=True)\n",
    "\n",
    "\n",
    "# Rename the apc column to make it more readable\n",
    "hq_coverage_data = hq_coverage_data.rename(columns={'articles_per_capita': 'High Quality Articles per Capita (count/Million)', 'country': 'Country'})\n",
    "\n",
    "#Print the Top 10 to a Table\n",
    "print('Top 10 countries by coverage\\n')\n",
    "print(hq_coverage_data.sort_values(by='High Quality Articles per Capita (count/Million)', ascending=False).head(10)[['Country', 'High Quality Articles per Capita (count/Million)']].round(2).to_string(index=False))"
   ]
  },
  {
   "cell_type": "markdown",
   "metadata": {},
   "source": [
    "## Table 4: Bottom 10 countries by high quality\n",
    "The below code executes the analysis for identifying the bottom 10 contries with the highest quality articles per capita.\n",
    "\n",
    "Note that in this analysis, there are a lot of countries (65 to be exact) that are present in the dataset but do not have ANY high quality articles. Therefor, the ten shown here are just 10 of 65 with a high quality coverage per capita score of 0"
   ]
  },
  {
   "cell_type": "code",
   "execution_count": 74,
   "metadata": {},
   "outputs": [
    {
     "name": "stdout",
     "output_type": "stream",
     "text": [
      "Bottom 10 countries by high quality coverage\n",
      "\n",
      "   Country  High Quality Articles per Capita (count/Million)\n",
      "    Tuvalu                                               0.0\n",
      "  Barbados                                               0.0\n",
      "     Benin                                               0.0\n",
      "     India                                               0.0\n",
      "    Monaco                                               0.0\n",
      "     China                                               0.0\n",
      "Seychelles                                               0.0\n",
      "   Bahamas                                               0.0\n",
      "    Taiwan                                               0.0\n",
      "    Bhutan                                               0.0\n",
      "\n",
      "List of all 65 countries without any high quality articles\n",
      "\n",
      "['Malaysia', 'Senegal', 'Chad', 'Yemen', 'Djibouti', 'Comoros', 'Tanzania', 'Gambia', 'Niger', 'Qatar', 'Kuwait', 'Eritrea', 'Oman', 'Turkey', 'Uzbekistan', 'Zimbabwe', 'Congo', 'Namibia', 'Cape Verde', 'India', 'Barbados', 'Mozambique', 'Honduras', 'Ecuador', 'Solomon Islands', 'Turkmenistan', 'Liberia', 'Malawi', 'Timor Leste', 'Antigua and Barbuda', 'Belize', 'Sierra Leone', 'Haiti', 'St. Vincent and the Grenadines', 'Marshall Islands', 'Paraguay', 'Estonia', 'Cyprus', 'Singapore', \"Cote d'Ivoire\", 'Federated States of Micronesia', 'Nicaragua', 'Benin', 'Monaco', 'China', 'Seychelles', 'Bahamas', 'Taiwan', 'Bhutan', 'Togo', 'Malta', 'Vanuatu', 'Norway', 'Tonga', 'St. Kitts and Nevis', 'Laos', 'Equatorial Guinea', 'Grenada', 'Zambia', 'St. Lucia', 'Lesotho', 'Samoa', 'Botswana', 'Israel', 'Tuvalu']\n"
     ]
    }
   ],
   "source": [
    "#Print the Bottom 10 to a Table\n",
    "print('Bottom 10 countries by high quality coverage\\n')\n",
    "print(hq_coverage_data.sort_values(by='High Quality Articles per Capita (count/Million)', ascending=True).head(10)[['Country', 'High Quality Articles per Capita (count/Million)']].round(2).to_string(index=False))\n",
    "\n",
    "print('\\nList of all 65 countries without any high quality articles\\n')\n",
    "print(hq_coverage_data[hq_coverage_data['High Quality Articles per Capita (count/Million)'] == 0]['Country'].to_list())"
   ]
  },
  {
   "cell_type": "markdown",
   "metadata": {},
   "source": [
    "## Table 5: Geographic regions by total coverage\n",
    "\n",
    "The code below produces a rank ordered list of geographic regions (in descending order) by total articles per capita.\n",
    "\n",
    "Since we didn't store the region-level population in the original \"data\" dataframe, we need to remerge with the \"population_by_country_AUG.2024.csv\" dataset to get the region-based population"
   ]
  },
  {
   "cell_type": "code",
   "execution_count": 73,
   "metadata": {},
   "outputs": [
    {
     "name": "stdout",
     "output_type": "stream",
     "text": [
      "All geographic region, ordered by coverage\n",
      "\n",
      "         Region  Articles per Capita (count/Million)\n",
      "SOUTHERN EUROPE                                 5.17\n",
      "      CARIBBEAN                                 4.93\n",
      " WESTERN EUROPE                                 2.48\n",
      " EASTERN EUROPE                                 2.47\n",
      "   WESTERN ASIA                                 2.03\n",
      "SOUTHERN AFRICA                                 1.76\n",
      "NORTHERN EUROPE                                 1.74\n",
      "        OCEANIA                                 1.60\n",
      " EASTERN AFRICA                                 1.36\n",
      "  SOUTH AMERICA                                 1.34\n",
      "   CENTRAL ASIA                                 1.29\n",
      "NORTHERN AFRICA                                 1.18\n",
      " WESTERN AFRICA                                 1.16\n",
      "  MIDDLE AFRICA                                 1.14\n",
      "CENTRAL AMERICA                                 1.02\n",
      " SOUTHEAST ASIA                                 0.58\n",
      "     SOUTH ASIA                                 0.33\n",
      "      EAST ASIA                                 0.14\n"
     ]
    }
   ],
   "source": [
    "# Load the population by country dataset and merge on region\n",
    "pop_country = pd.read_csv(\"../data_raw/population_by_country_AUG.2024.csv\").drop_duplicates()\n",
    "data_region = pd.merge(data, pop_country, left_on='region', right_on='Geography', how='inner')\n",
    "data_region = data_region.rename(columns={'Population': 'Region Population'})\n",
    "\n",
    "# Compute the articles per capita\n",
    "coverage_data_region = copy.deepcopy(data_region)\n",
    "coverage_data_region = coverage_data_region.groupby('region').agg( Count = ('Region Population', 'count'), Region_Population = ('Region Population', 'mean')).reset_index()\n",
    "coverage_data_region['articles_per_capita'] = coverage_data_region[\"Count\"] / coverage_data_region[\"Region_Population\"]\n",
    "\n",
    "# Rename the apc column to make it more readable\n",
    "coverage_data_region = coverage_data_region.rename(columns={'articles_per_capita': 'Articles per Capita (count/Million)', 'region': 'Region'})\n",
    "\n",
    "#Print the output to a Table\n",
    "print('All geographic region, ordered by coverage\\n')\n",
    "print(coverage_data_region.sort_values(by='Articles per Capita (count/Million)', ascending=False)[['Region', 'Articles per Capita (count/Million)']].round(2).to_string(index=False))"
   ]
  },
  {
   "cell_type": "markdown",
   "metadata": {},
   "source": [
    "## Table 6: Geographic regions by high quality coverage\n",
    "\n",
    "The code below produces a rank ordered list of geographic regions (in descending order) by high quality articles per capita."
   ]
  },
  {
   "cell_type": "code",
   "execution_count": 72,
   "metadata": {},
   "outputs": [
    {
     "name": "stdout",
     "output_type": "stream",
     "text": [
      "All geographic region, ordered by quality article coverage\n",
      "\n",
      "         Region  Articles per Capita (count/Million)\n",
      "SOUTHERN EUROPE                                 0.35\n",
      "      CARIBBEAN                                 0.20\n",
      " EASTERN EUROPE                                 0.13\n",
      "SOUTHERN AFRICA                                 0.11\n",
      " WESTERN EUROPE                                 0.11\n",
      "   WESTERN ASIA                                 0.09\n",
      "NORTHERN EUROPE                                 0.07\n",
      "NORTHERN AFRICA                                 0.07\n",
      "   CENTRAL ASIA                                 0.06\n",
      "CENTRAL AMERICA                                 0.05\n",
      "  SOUTH AMERICA                                 0.04\n",
      "  MIDDLE AFRICA                                 0.04\n",
      " SOUTHEAST ASIA                                 0.04\n",
      " EASTERN AFRICA                                 0.03\n",
      " WESTERN AFRICA                                 0.03\n",
      "        OCEANIA                                 0.02\n",
      "     SOUTH ASIA                                 0.01\n",
      "      EAST ASIA                                 0.01\n"
     ]
    }
   ],
   "source": [
    "#Compute high quality coverage by region\n",
    "hq_coverage_data_region = copy.deepcopy(data_region)\n",
    "\n",
    "#Extract all the regions present\n",
    "all_regions = pd.DataFrame({'region':hq_coverage_data_region['region'].unique()})\n",
    "\n",
    "#Filter to only the high quality articles and compute aggregate scores\n",
    "hq_coverage_data_region  = hq_coverage_data_region [hq_coverage_data_region [\"article_quality\"].isin(['FA', 'GA'])]\n",
    "hq_coverage_data_region = hq_coverage_data_region.groupby('region').agg( Count = ('Region Population', 'count'), Region_Population = ('Region Population', 'mean')).reset_index()\n",
    "hq_coverage_data_region['articles_per_capita'] = hq_coverage_data_region[\"Count\"] / hq_coverage_data_region[\"Region_Population\"]\n",
    "\n",
    "#Remerge with the set of all countries and fill in the aggregates with 0\n",
    "hq_coverage_data_region = pd.merge(all_regions, hq_coverage_data_region , on='region', how='left')\n",
    "hq_coverage_data_region.fillna(0, inplace=True)\n",
    "\n",
    "#rename the apc column to make it more readable\n",
    "hq_coverage_data_region = hq_coverage_data_region.rename(columns={'articles_per_capita': 'Articles per Capita (count/Million)', 'region': 'Region'})\n",
    "\n",
    "#Print the output to a Table\n",
    "print('All geographic region, ordered by quality article coverage\\n')\n",
    "print(hq_coverage_data_region.sort_values(by='Articles per Capita (count/Million)', ascending=False)[['Region', 'Articles per Capita (count/Million)']].round(2).to_string(index=False))"
   ]
  }
 ],
 "metadata": {
  "kernelspec": {
   "display_name": "DATA557",
   "language": "python",
   "name": "python3"
  },
  "language_info": {
   "codemirror_mode": {
    "name": "ipython",
    "version": 3
   },
   "file_extension": ".py",
   "mimetype": "text/x-python",
   "name": "python",
   "nbconvert_exporter": "python",
   "pygments_lexer": "ipython3",
   "version": "3.10.13"
  }
 },
 "nbformat": 4,
 "nbformat_minor": 2
}

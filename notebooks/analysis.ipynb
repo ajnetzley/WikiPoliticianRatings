{
 "cells": [
  {
   "cell_type": "markdown",
   "metadata": {},
   "source": [
    "# Analysis\n",
    "This code contains all of the analysis for data processing and creating the 6 tables detailed below."
   ]
  },
  {
   "cell_type": "markdown",
   "metadata": {},
   "source": [
    "## Importing Libraries"
   ]
  },
  {
   "cell_type": "code",
   "execution_count": 5,
   "metadata": {},
   "outputs": [],
   "source": [
    "import pandas as pd\n",
    "import copy"
   ]
  },
  {
   "cell_type": "markdown",
   "metadata": {},
   "source": [
    "## Loading the data"
   ]
  },
  {
   "cell_type": "code",
   "execution_count": 26,
   "metadata": {},
   "outputs": [],
   "source": [
    "data = pd.read_csv(\"../data_clean/wp_politicians_by_country.csv\")"
   ]
  },
  {
   "cell_type": "markdown",
   "metadata": {},
   "source": [
    "## Table 1: Top 10 countries by coverage"
   ]
  },
  {
   "cell_type": "code",
   "execution_count": 40,
   "metadata": {},
   "outputs": [
    {
     "name": "stdout",
     "output_type": "stream",
     "text": [
      "                            country  articles_per_capita\n",
      "97                           Monaco                  inf\n",
      "155                          Tuvalu                  inf\n",
      "4               Antigua and Barbuda           330.000000\n",
      "51   Federated States of Micronesia           140.000000\n",
      "94                 Marshall Islands           130.000000\n",
      "150                           Tonga           100.000000\n",
      "12                         Barbados            83.333333\n",
      "126                      Seychelles            60.000000\n",
      "99                       Montenegro            56.666667\n",
      "17                           Bhutan            55.000000\n"
     ]
    }
   ],
   "source": [
    "# Compute the articles per capita\n",
    "coverage_data = copy.deepcopy(data)\n",
    "coverage_data = coverage_data.groupby('country').agg( Count = ('population', 'count'), population = ('population', 'mean')).reset_index()\n",
    "coverage_data['articles_per_capita'] = coverage_data[\"Count\"] / coverage_data[\"population\"]\n",
    "\n",
    "#Print the Top 10 to a Table\n",
    "print(coverage_data.sort_values(by='articles_per_capita', ascending=False).head(10)[['country', 'articles_per_capita']])"
   ]
  },
  {
   "cell_type": "markdown",
   "metadata": {},
   "source": [
    "## Table 2: Bottom 10 countries by coverage"
   ]
  },
  {
   "cell_type": "code",
   "execution_count": 41,
   "metadata": {},
   "outputs": [
    {
     "name": "stdout",
     "output_type": "stream",
     "text": [
      "           country  articles_per_capita\n",
      "31           China             0.011337\n",
      "57           Ghana             0.087977\n",
      "66           India             0.105698\n",
      "123   Saudi Arabia             0.135501\n",
      "165         Zambia             0.148515\n",
      "109         Norway             0.181818\n",
      "70          Israel             0.204082\n",
      "45           Egypt             0.304183\n",
      "37   Cote d'Ivoire             0.323625\n",
      "50        Ethiopia             0.347826\n"
     ]
    }
   ],
   "source": [
    "#Print the Top 10 to a Table\n",
    "print(coverage_data.sort_values(by='articles_per_capita').head(10)[['country', 'articles_per_capita']])"
   ]
  },
  {
   "cell_type": "markdown",
   "metadata": {},
   "source": [
    "## Table 3: Top 10 countries by high quality"
   ]
  },
  {
   "cell_type": "code",
   "execution_count": null,
   "metadata": {},
   "outputs": [],
   "source": [
    "af"
   ]
  },
  {
   "cell_type": "markdown",
   "metadata": {},
   "source": [
    "## Table 4: Bottom 10 countries by high quality"
   ]
  },
  {
   "cell_type": "markdown",
   "metadata": {},
   "source": [
    "## Table 5: Geographic regions by total coverage"
   ]
  },
  {
   "cell_type": "markdown",
   "metadata": {},
   "source": [
    "## Table 6: Geographic regions by high quality coverage"
   ]
  }
 ],
 "metadata": {
  "kernelspec": {
   "display_name": "DATA557",
   "language": "python",
   "name": "python3"
  },
  "language_info": {
   "codemirror_mode": {
    "name": "ipython",
    "version": 3
   },
   "file_extension": ".py",
   "mimetype": "text/x-python",
   "name": "python",
   "nbconvert_exporter": "python",
   "pygments_lexer": "ipython3",
   "version": "3.10.13"
  }
 },
 "nbformat": 4,
 "nbformat_minor": 2
}

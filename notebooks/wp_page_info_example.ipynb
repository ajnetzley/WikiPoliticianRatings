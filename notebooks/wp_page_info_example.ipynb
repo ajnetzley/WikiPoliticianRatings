{
 "cells": [
  {
   "cell_type": "markdown",
   "metadata": {
    "tags": []
   },
   "source": [
    "# Article Page Info MediaWiki API Example\n",
    "This example illustrates how to access page info data using the [MediaWiki REST API for the EN Wikipedia](https://www.mediawiki.org/wiki/API:Main_page). This example shows how to request summary 'page info' for a single article page. The API documentation, [API:Info](https://www.mediawiki.org/wiki/API:Info), covers additional details that may be helpful when trying to use or understand this example.\n",
    "\n",
    "## License\n",
    "This code example was developed by Dr. David W. McDonald for use in DATA 512, a course in the UW MS Data Science degree program. This code is provided under the [Creative Commons](https://creativecommons.org) [CC-BY license](https://creativecommons.org/licenses/by/4.0/). Revision 1.2 - September 16, 2024\n",
    "\n"
   ]
  },
  {
   "cell_type": "code",
   "execution_count": 42,
   "metadata": {
    "tags": []
   },
   "outputs": [],
   "source": [
    "# \n",
    "# These are standard python modules\n",
    "import json\n",
    "import time\n",
    "import urllib.parse\n",
    "import pandas as pd\n",
    "#\n",
    "# The 'requests' module is not a standard Python module. You will need to install this with pip/pip3 if you do not already have it\n",
    "import requests"
   ]
  },
  {
   "cell_type": "markdown",
   "metadata": {},
   "source": [
    "# Loading in the List of Article Titles"
   ]
  },
  {
   "cell_type": "code",
   "execution_count": 43,
   "metadata": {},
   "outputs": [],
   "source": [
    "### Reading in the article titles ###\n",
    "input_data = pd.read_csv(\"../data_raw/politicians_by_country_AUG.2024.csv\")\n",
    "\n",
    "# Extract the disease names\n",
    "article_titles = input_data['name']"
   ]
  },
  {
   "cell_type": "markdown",
   "metadata": {},
   "source": [
    "The example relies on some constants that help make the code a bit more readable."
   ]
  },
  {
   "cell_type": "code",
   "execution_count": 44,
   "metadata": {
    "tags": []
   },
   "outputs": [],
   "source": [
    "#########\n",
    "#\n",
    "#    CONSTANTS\n",
    "#\n",
    "\n",
    "# The basic English Wikipedia API endpoint\n",
    "API_ENWIKIPEDIA_ENDPOINT = \"https://en.wikipedia.org/w/api.php\"\n",
    "API_HEADER_AGENT = 'User-Agent'\n",
    "\n",
    "# We'll assume that there needs to be some throttling for these requests - we should always be nice to a free data resource\n",
    "API_LATENCY_ASSUMED = 0.002       # Assuming roughly 2ms latency on the API and network\n",
    "API_THROTTLE_WAIT = (1.0/100.0)-API_LATENCY_ASSUMED\n",
    "\n",
    "# When making automated requests we should include something that is unique to the person making the request\n",
    "# This should include an email - your UW email would be good to put in there\n",
    "REQUEST_HEADERS = {\n",
    "    'User-Agent': '<anetzley@uw.edu>, University of Washington, MSDS DATA 512 - AUTUMN 2024'\n",
    "}\n",
    "\n",
    "# This is just a list of English Wikipedia article titles that we can use for example requests\n",
    "ARTICLE_TITLES = article_titles\n",
    "\n",
    "# This is a string of additional page properties that can be returned see the Info documentation for\n",
    "# what can be included. If you don't want any this can simply be the empty string\n",
    "PAGEINFO_EXTENDED_PROPERTIES = \"talkid|url|watched|watchers\"\n",
    "#PAGEINFO_EXTENDED_PROPERTIES = \"\"\n",
    "\n",
    "# This template lists the basic parameters for making this\n",
    "PAGEINFO_PARAMS_TEMPLATE = {\n",
    "    \"action\": \"query\",\n",
    "    \"format\": \"json\",\n",
    "    \"titles\": \"\",           # to simplify this should be a single page title at a time\n",
    "    \"prop\": \"info\",\n",
    "    \"inprop\": PAGEINFO_EXTENDED_PROPERTIES\n",
    "}\n"
   ]
  },
  {
   "cell_type": "markdown",
   "metadata": {},
   "source": [
    "## Defining the API Call"
   ]
  },
  {
   "cell_type": "code",
   "execution_count": 45,
   "metadata": {},
   "outputs": [],
   "source": [
    "#########\n",
    "#\n",
    "#    PROCEDURES/FUNCTIONS\n",
    "#\n",
    "\n",
    "def request_pageinfo_per_article(article_title = None, \n",
    "                                 endpoint_url = API_ENWIKIPEDIA_ENDPOINT, \n",
    "                                 request_template = PAGEINFO_PARAMS_TEMPLATE,\n",
    "                                 headers = REQUEST_HEADERS):\n",
    "    \n",
    "    # article title can be as a parameter to the call or in the request_template\n",
    "    if article_title:\n",
    "        request_template['titles'] = article_title\n",
    "\n",
    "    if not request_template['titles']:\n",
    "        raise Exception(\"Must supply an article title to make a pageinfo request.\")\n",
    "\n",
    "    if API_HEADER_AGENT not in headers:\n",
    "        raise Exception(f\"The header data should include a '{API_HEADER_AGENT}' field that contains your UW email address.\")\n",
    "\n",
    "    if 'uwnetid@uw' in headers[API_HEADER_AGENT]:\n",
    "        raise Exception(f\"Use your UW email address in the '{API_HEADER_AGENT}' field.\")\n",
    "\n",
    "    # make the request\n",
    "    try:\n",
    "        # we'll wait first, to make sure we don't exceed the limit in the situation where an exception\n",
    "        # occurs during the request processing - throttling is always a good practice with a free\n",
    "        # data source like Wikipedia - or any other community sources\n",
    "        if API_THROTTLE_WAIT > 0.0:\n",
    "            time.sleep(API_THROTTLE_WAIT)\n",
    "        response = requests.get(endpoint_url, headers=headers, params=request_template)\n",
    "        json_response = response.json()\n",
    "    except Exception as e:\n",
    "        print(e)\n",
    "        json_response = None\n",
    "    return json_response\n",
    "\n",
    "def store_rev_ids(article_titles = ARTICLE_TITLES):\n",
    "    # #Split article titles list into groups of 4 to speed up api calls\n",
    "    # for title in range(0, len(article_titles), 4):\n",
    "    #     article_titles_fours = article_titles[title:title+4]\n",
    "\n",
    "\n",
    "    #Create a new dictionary to hold all of the rev_ids \n",
    "    rev_ids = {}\n",
    "    for art in article_titles:\n",
    "        #Execute the API call\n",
    "        response = request_pageinfo_per_article(art)\n",
    "\n",
    "        # Dig within the json and extract the last revision ID\n",
    "        rev_id = list(response['query']['pages'].values())[0]['lastrevid']\n",
    "        \n",
    "        #Store the views into the dictionary\n",
    "        rev_ids[art] = rev_id\n",
    "\n",
    "\n",
    "    return rev_ids\n"
   ]
  },
  {
   "cell_type": "markdown",
   "metadata": {},
   "source": [
    "## Execute the API Call"
   ]
  },
  {
   "cell_type": "code",
   "execution_count": 46,
   "metadata": {},
   "outputs": [
    {
     "name": "stdout",
     "output_type": "stream",
     "text": [
      "{\n",
      "    \"Majah Ha Adrif\": 1233202991,\n",
      "    \"Haroon al-Afghani\": 1230459615,\n",
      "    \"Tayyab Agha\": 1225661708,\n",
      "    \"Khadija Zahra Ahmadi\": 1234741562,\n",
      "    \"Aziza Ahmadyar\": 1195651393,\n",
      "    \"Muqadasa Ahmadzai\": 1235521766,\n",
      "    \"Mohammad Sarwar Ahmedzai\": 1176429234,\n",
      "    \"Amir Muhammad Akhundzada\": 1247931713,\n",
      "    \"Nasrullah Baryalai Arsalai\": 1225385278,\n",
      "    \"Abdul Rahim Ayoubi\": 1226326055\n",
      "}\n"
     ]
    }
   ],
   "source": [
    "rev_ids = store_rev_ids(article_titles = ARTICLE_TITLES[:10])\n",
    "print(json.dumps(rev_ids,indent=4))"
   ]
  },
  {
   "cell_type": "code",
   "execution_count": 47,
   "metadata": {},
   "outputs": [],
   "source": [
    "with open('../data_clean/rev_ids.json', 'w') as file:\n",
    "    json.dump(rev_ids, file, indent=4)"
   ]
  },
  {
   "cell_type": "markdown",
   "metadata": {},
   "source": [
    "## ALL CODE BELOW FROM EXAMPLE"
   ]
  },
  {
   "cell_type": "code",
   "execution_count": 11,
   "metadata": {},
   "outputs": [
    {
     "name": "stdout",
     "output_type": "stream",
     "text": [
      "Getting page info data for: Khadija Zahra Ahmadi\n",
      "{\n",
      "    \"batchcomplete\": \"\",\n",
      "    \"query\": {\n",
      "        \"pages\": {\n",
      "            \"71600382\": {\n",
      "                \"pageid\": 71600382,\n",
      "                \"ns\": 0,\n",
      "                \"title\": \"Khadija Zahra Ahmadi\",\n",
      "                \"contentmodel\": \"wikitext\",\n",
      "                \"pagelanguage\": \"en\",\n",
      "                \"pagelanguagehtmlcode\": \"en\",\n",
      "                \"pagelanguagedir\": \"ltr\",\n",
      "                \"touched\": \"2024-10-07T14:08:50Z\",\n",
      "                \"lastrevid\": 1234741562,\n",
      "                \"length\": 2569,\n",
      "                \"talkid\": 71610138,\n",
      "                \"fullurl\": \"https://en.wikipedia.org/wiki/Khadija_Zahra_Ahmadi\",\n",
      "                \"editurl\": \"https://en.wikipedia.org/w/index.php?title=Khadija_Zahra_Ahmadi&action=edit\",\n",
      "                \"canonicalurl\": \"https://en.wikipedia.org/wiki/Khadija_Zahra_Ahmadi\"\n",
      "            }\n",
      "        }\n",
      "    }\n",
      "}\n"
     ]
    }
   ],
   "source": [
    "print(f\"Getting page info data for: {ARTICLE_TITLES[3]}\")\n",
    "info = request_pageinfo_per_article(ARTICLE_TITLES[3])\n",
    "print(json.dumps(info,indent=4))"
   ]
  },
  {
   "cell_type": "code",
   "execution_count": 12,
   "metadata": {},
   "outputs": [
    {
     "name": "stdout",
     "output_type": "stream",
     "text": [
      "Getting page info data for: Haroon al-Afghani\n",
      "{\n",
      "    \"11966231\": {\n",
      "        \"pageid\": 11966231,\n",
      "        \"ns\": 0,\n",
      "        \"title\": \"Haroon al-Afghani\",\n",
      "        \"contentmodel\": \"wikitext\",\n",
      "        \"pagelanguage\": \"en\",\n",
      "        \"pagelanguagehtmlcode\": \"en\",\n",
      "        \"pagelanguagedir\": \"ltr\",\n",
      "        \"touched\": \"2024-10-05T14:27:29Z\",\n",
      "        \"lastrevid\": 1230459615,\n",
      "        \"length\": 17027,\n",
      "        \"talkid\": 15250816,\n",
      "        \"fullurl\": \"https://en.wikipedia.org/wiki/Haroon_al-Afghani\",\n",
      "        \"editurl\": \"https://en.wikipedia.org/w/index.php?title=Haroon_al-Afghani&action=edit\",\n",
      "        \"canonicalurl\": \"https://en.wikipedia.org/wiki/Haroon_al-Afghani\"\n",
      "    }\n",
      "}\n"
     ]
    }
   ],
   "source": [
    "print(f\"Getting page info data for: {ARTICLE_TITLES[1]}\")\n",
    "info = request_pageinfo_per_article(ARTICLE_TITLES[1])\n",
    "print(json.dumps(info['query']['pages'],indent=4))"
   ]
  },
  {
   "cell_type": "markdown",
   "metadata": {},
   "source": [
    "There is a way to get the information for multiple pages at the same time, by separating the page titles with the vertical bar \"|\" character. However, this approach has limits. You should probably check the API documentation if you want to do multiple pages in a single request - and limit the number of pages in one request reasonably.\n",
    "\n",
    "This example also illustrates creating a copy of the template, setting values in the template, and then calling the function using the template to supply the parameters for the API request."
   ]
  },
  {
   "cell_type": "code",
   "execution_count": 13,
   "metadata": {},
   "outputs": [
    {
     "name": "stdout",
     "output_type": "stream",
     "text": [
      "Getting page info data for: Majah Ha Adrif|Tayyab Agha|Aziza Ahmadyar\n",
      "{\n",
      "    \"47805901\": {\n",
      "        \"pageid\": 47805901,\n",
      "        \"ns\": 0,\n",
      "        \"title\": \"Aziza Ahmadyar\",\n",
      "        \"contentmodel\": \"wikitext\",\n",
      "        \"pagelanguage\": \"en\",\n",
      "        \"pagelanguagehtmlcode\": \"en\",\n",
      "        \"pagelanguagedir\": \"ltr\",\n",
      "        \"touched\": \"2024-10-08T13:30:38Z\",\n",
      "        \"lastrevid\": 1195651393,\n",
      "        \"length\": 3790,\n",
      "        \"talkid\": 47806200,\n",
      "        \"fullurl\": \"https://en.wikipedia.org/wiki/Aziza_Ahmadyar\",\n",
      "        \"editurl\": \"https://en.wikipedia.org/w/index.php?title=Aziza_Ahmadyar&action=edit\",\n",
      "        \"canonicalurl\": \"https://en.wikipedia.org/wiki/Aziza_Ahmadyar\"\n",
      "    },\n",
      "    \"10483286\": {\n",
      "        \"pageid\": 10483286,\n",
      "        \"ns\": 0,\n",
      "        \"title\": \"Majah Ha Adrif\",\n",
      "        \"contentmodel\": \"wikitext\",\n",
      "        \"pagelanguage\": \"en\",\n",
      "        \"pagelanguagehtmlcode\": \"en\",\n",
      "        \"pagelanguagedir\": \"ltr\",\n",
      "        \"touched\": \"2024-09-30T14:32:18Z\",\n",
      "        \"lastrevid\": 1233202991,\n",
      "        \"length\": 3188,\n",
      "        \"talkid\": 13330265,\n",
      "        \"fullurl\": \"https://en.wikipedia.org/wiki/Majah_Ha_Adrif\",\n",
      "        \"editurl\": \"https://en.wikipedia.org/w/index.php?title=Majah_Ha_Adrif&action=edit\",\n",
      "        \"canonicalurl\": \"https://en.wikipedia.org/wiki/Majah_Ha_Adrif\"\n",
      "    },\n",
      "    \"46841383\": {\n",
      "        \"pageid\": 46841383,\n",
      "        \"ns\": 0,\n",
      "        \"title\": \"Tayyab Agha\",\n",
      "        \"contentmodel\": \"wikitext\",\n",
      "        \"pagelanguage\": \"en\",\n",
      "        \"pagelanguagehtmlcode\": \"en\",\n",
      "        \"pagelanguagedir\": \"ltr\",\n",
      "        \"touched\": \"2024-10-07T15:18:31Z\",\n",
      "        \"lastrevid\": 1225661708,\n",
      "        \"length\": 6346,\n",
      "        \"talkid\": 46843786,\n",
      "        \"fullurl\": \"https://en.wikipedia.org/wiki/Tayyab_Agha\",\n",
      "        \"editurl\": \"https://en.wikipedia.org/w/index.php?title=Tayyab_Agha&action=edit\",\n",
      "        \"canonicalurl\": \"https://en.wikipedia.org/wiki/Tayyab_Agha\"\n",
      "    }\n",
      "}\n"
     ]
    }
   ],
   "source": [
    "page_titles = f\"{ARTICLE_TITLES[0]}|{ARTICLE_TITLES[2]}|{ARTICLE_TITLES[4]}\"\n",
    "print(f\"Getting page info data for: {page_titles}\")\n",
    "request_info = PAGEINFO_PARAMS_TEMPLATE.copy()\n",
    "request_info['titles'] = page_titles\n",
    "info = request_pageinfo_per_article(request_template=request_info)\n",
    "print(json.dumps(info['query']['pages'],indent=4))"
   ]
  },
  {
   "cell_type": "code",
   "execution_count": null,
   "metadata": {},
   "outputs": [],
   "source": []
  }
 ],
 "metadata": {
  "kernelspec": {
   "display_name": "DATA557",
   "language": "python",
   "name": "python3"
  },
  "language_info": {
   "codemirror_mode": {
    "name": "ipython",
    "version": 3
   },
   "file_extension": ".py",
   "mimetype": "text/x-python",
   "name": "python",
   "nbconvert_exporter": "python",
   "pygments_lexer": "ipython3",
   "version": "3.10.13"
  }
 },
 "nbformat": 4,
 "nbformat_minor": 4
}

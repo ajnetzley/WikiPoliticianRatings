{
 "cells": [
  {
   "cell_type": "markdown",
   "metadata": {},
   "source": [
    "# Merging Datasets\n",
    "This notebook contains the code to merge the wikepedia and and population data"
   ]
  },
  {
   "cell_type": "markdown",
   "metadata": {},
   "source": [
    "## Libraries"
   ]
  },
  {
   "cell_type": "code",
   "execution_count": null,
   "metadata": {},
   "outputs": [],
   "source": [
    "import json\n",
    "import time\n",
    "import pandas as pd"
   ]
  },
  {
   "cell_type": "markdown",
   "metadata": {},
   "source": [
    "## Loading the data"
   ]
  },
  {
   "cell_type": "code",
   "execution_count": null,
   "metadata": {},
   "outputs": [],
   "source": [
    "### Reading in the article titles ###\n",
    "with open('../data_clean/rev_ids.json', 'r') as file:\n",
    "    rev_ids = json.load(file)\n",
    "\n",
    "\n",
    "input_data = pd.read_csv(\"../data_raw/politicians_by_country_AUG.2024.csv\")\n",
    "\n",
    "article_titles = input_data['name']"
   ]
  }
 ],
 "metadata": {
  "kernelspec": {
   "display_name": "DATA557",
   "language": "python",
   "name": "python3"
  },
  "language_info": {
   "name": "python",
   "version": "3.10.13"
  }
 },
 "nbformat": 4,
 "nbformat_minor": 2
}
